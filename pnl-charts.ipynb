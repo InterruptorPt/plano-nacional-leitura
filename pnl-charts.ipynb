{
 "metadata": {
  "language_info": {
   "codemirror_mode": {
    "name": "ipython",
    "version": 3
   },
   "file_extension": ".py",
   "mimetype": "text/x-python",
   "name": "python",
   "nbconvert_exporter": "python",
   "pygments_lexer": "ipython3",
   "version": "3.8.5-final"
  },
  "orig_nbformat": 2,
  "kernelspec": {
   "name": "python3",
   "display_name": "Python 3",
   "language": "python"
  }
 },
 "nbformat": 4,
 "nbformat_minor": 2,
 "cells": [
  {
   "cell_type": "code",
   "execution_count": 48,
   "metadata": {},
   "outputs": [],
   "source": [
    "import pandas as pd\n",
    "import numpy as np\n",
    "import re"
   ]
  },
  {
   "cell_type": "code",
   "execution_count": 49,
   "metadata": {},
   "outputs": [],
   "source": [
    "livros_pre_2017 = pd.read_csv(\"livros_pre_2017.csv\", index_col = \"Unnamed: 0\", parse_dates=[\"Data de edição\"])\n",
    "livros_pos_2017 = pd.read_csv(\"livros pos 2017.csv\", index_col = \"Unnamed: 0\", parse_dates=[\"Data de edição:\"])"
   ]
  },
  {
   "cell_type": "code",
   "execution_count": 50,
   "metadata": {},
   "outputs": [],
   "source": [
    "#lista isbn\n",
    "isbn_list_final = list(livros_pos_2017['ISBN:']) + list(livros_pre_2017['ISBN'])\n",
    "type(isbn_list_final)\n",
    "\n",
    "with open('isbn-list.txt', 'w') as filehandle:\n",
    "    for listitem in isbn_list_final:\n",
    "        filehandle.write('%s\\n' % listitem)"
   ]
  },
  {
   "source": [
    "## Datas de Edição"
   ],
   "cell_type": "markdown",
   "metadata": {}
  },
  {
   "cell_type": "code",
   "execution_count": 51,
   "metadata": {
    "tags": []
   },
   "outputs": [],
   "source": [
    "def clean_dates(date):\n",
    "    if type(date) is not str:\n",
    "        return None\n",
    "    date = re.search(r\"\\d{4}\", date)\n",
    "    return date[0] if date is not None else None\n",
    "\n",
    "livros_pos_2017[\"Data de edição:\"] = livros_pos_2017[\"Data de edição:\"].apply(clean_dates)\n",
    "livros_pre_2017[\"Data de edição\"] = livros_pre_2017[\"Data de edição\"].apply(clean_dates)"
   ]
  },
  {
   "cell_type": "code",
   "execution_count": 52,
   "metadata": {},
   "outputs": [],
   "source": [
    "datas_pos_2017 = livros_pos_2017[\"Data de edição:\"].value_counts()\n",
    "datas_pre_2017 = livros_pre_2017[\"Data de edição\"].value_counts()\n",
    "datas_pre_2017 = pd.DataFrame(datas_pre_2017)\n",
    "datas_pre_2017 = datas_pre_2017.reset_index()\n",
    "datas_pos_2017 = pd.DataFrame(datas_pos_2017)\n",
    "datas_pos_2017 = datas_pos_2017.reset_index()\n",
    "datas_pos_2017.columns = datas_pre_2017.columns"
   ]
  },
  {
   "cell_type": "code",
   "execution_count": 53,
   "metadata": {},
   "outputs": [],
   "source": [
    "todas_datas = datas_pre_2017.merge(datas_pos_2017, how=\"outer\", on=\"index\")\n",
    "todas_datas = todas_datas.fillna(0)\n",
    "todas_datas[\"Livros editados\"] = todas_datas[\"Data de edição_x\"] + todas_datas[\"Data de edição_y\"]\n",
    "todas_datas = todas_datas.drop([\"Data de edição_x\", \"Data de edição_y\"], axis=1)\n",
    "todas_datas = todas_datas.astype(\"int\")\n",
    "#todas_datas.to_csv(\"datas-edicao-final.csv\")"
   ]
  },
  {
   "cell_type": "code",
   "execution_count": 54,
   "metadata": {},
   "outputs": [
    {
     "output_type": "execute_result",
     "data": {
      "text/plain": [
       "8301"
      ]
     },
     "metadata": {},
     "execution_count": 54
    }
   ],
   "source": [
    "todas_datas[\"Livros editados\"].sum()"
   ]
  },
  {
   "cell_type": "code",
   "execution_count": 55,
   "metadata": {},
   "outputs": [
    {
     "output_type": "execute_result",
     "data": {
      "text/plain": [
       "             index  Livros editados\n",
       "count    15.000000        15.000000\n",
       "mean   2013.000000       482.533333\n",
       "std       4.472136       173.275943\n",
       "min    2006.000000       173.000000\n",
       "25%    2009.500000       384.500000\n",
       "50%    2013.000000       471.000000\n",
       "75%    2016.500000       544.000000\n",
       "max    2020.000000       888.000000"
      ],
      "text/html": "<div>\n<style scoped>\n    .dataframe tbody tr th:only-of-type {\n        vertical-align: middle;\n    }\n\n    .dataframe tbody tr th {\n        vertical-align: top;\n    }\n\n    .dataframe thead th {\n        text-align: right;\n    }\n</style>\n<table border=\"1\" class=\"dataframe\">\n  <thead>\n    <tr style=\"text-align: right;\">\n      <th></th>\n      <th>index</th>\n      <th>Livros editados</th>\n    </tr>\n  </thead>\n  <tbody>\n    <tr>\n      <th>count</th>\n      <td>15.000000</td>\n      <td>15.000000</td>\n    </tr>\n    <tr>\n      <th>mean</th>\n      <td>2013.000000</td>\n      <td>482.533333</td>\n    </tr>\n    <tr>\n      <th>std</th>\n      <td>4.472136</td>\n      <td>173.275943</td>\n    </tr>\n    <tr>\n      <th>min</th>\n      <td>2006.000000</td>\n      <td>173.000000</td>\n    </tr>\n    <tr>\n      <th>25%</th>\n      <td>2009.500000</td>\n      <td>384.500000</td>\n    </tr>\n    <tr>\n      <th>50%</th>\n      <td>2013.000000</td>\n      <td>471.000000</td>\n    </tr>\n    <tr>\n      <th>75%</th>\n      <td>2016.500000</td>\n      <td>544.000000</td>\n    </tr>\n    <tr>\n      <th>max</th>\n      <td>2020.000000</td>\n      <td>888.000000</td>\n    </tr>\n  </tbody>\n</table>\n</div>"
     },
     "metadata": {},
     "execution_count": 55
    }
   ],
   "source": [
    "#livros editados depois do início do PNL\n",
    "\n",
    "datas_pos_2006 = todas_datas.loc[(todas_datas[\"index\"] > 2005) & (todas_datas[\"index\"] < 2021)]\n",
    "datas_pos_2006.describe()"
   ]
  },
  {
   "cell_type": "code",
   "execution_count": 56,
   "metadata": {},
   "outputs": [
    {
     "output_type": "execute_result",
     "data": {
      "text/plain": [
       "0.12805686061920252"
      ]
     },
     "metadata": {},
     "execution_count": 56
    }
   ],
   "source": [
    "(todas_datas[\"Livros editados\"].sum() - datas_pos_2006[\"Livros editados\"].sum()) / todas_datas[\"Livros editados\"].sum()"
   ]
  },
  {
   "source": [
    "## Obras Traduzidas"
   ],
   "cell_type": "markdown",
   "metadata": {}
  },
  {
   "cell_type": "code",
   "execution_count": 57,
   "metadata": {},
   "outputs": [],
   "source": [
    "livros_pre_2017 = livros_pre_2017.drop_duplicates(subset=['Título', 'Autor'], keep='first')"
   ]
  },
  {
   "cell_type": "code",
   "execution_count": 58,
   "metadata": {},
   "outputs": [
    {
     "output_type": "execute_result",
     "data": {
      "text/plain": [
       "Português    4966\n",
       "Inglês        778\n",
       "Outra           1\n",
       "Name: Línguas01, dtype: int64"
      ]
     },
     "metadata": {},
     "execution_count": 58
    }
   ],
   "source": [
    "livros_pre_2017[\"Línguas01\"].value_counts()"
   ]
  },
  {
   "cell_type": "code",
   "execution_count": 59,
   "metadata": {},
   "outputs": [
    {
     "output_type": "execute_result",
     "data": {
      "text/plain": [
       "Português              2312\n",
       "N/R                      26\n",
       "Inglês                    3\n",
       "Outra                     2\n",
       "Português; Espanhol       1\n",
       "português                 1\n",
       "Espanhol                  1\n",
       "Name: Língua:, dtype: int64"
      ]
     },
     "metadata": {},
     "execution_count": 59
    }
   ],
   "source": [
    "livros_pos_2017[\"Língua:\"].value_counts()"
   ]
  },
  {
   "cell_type": "code",
   "execution_count": 60,
   "metadata": {},
   "outputs": [
    {
     "output_type": "execute_result",
     "data": {
      "text/plain": [
       "ISBN:                  0\n",
       "Título:                2\n",
       "Autor(es):             0\n",
       "Ilustrador(es):      962\n",
       "Tradutor(es)         918\n",
       "Editora:               0\n",
       "Data de edição:        5\n",
       "Palavras-chave:        4\n",
       "Idade:                 1\n",
       "Nível de Leitura:      0\n",
       "Tema:                  0\n",
       "Formato:               0\n",
       "Língua:                3\n",
       "Ano PNL                0\n",
       "dtype: int64"
      ]
     },
     "metadata": {},
     "execution_count": 60
    }
   ],
   "source": [
    "livros_pos_2017.isna().sum()"
   ]
  },
  {
   "cell_type": "code",
   "execution_count": 61,
   "metadata": {},
   "outputs": [
    {
     "output_type": "execute_result",
     "data": {
      "text/plain": [
       "3703"
      ]
     },
     "metadata": {},
     "execution_count": 61
    }
   ],
   "source": [
    "livros_pre_2017[\"Tradutor\"].isna().sum()"
   ]
  },
  {
   "cell_type": "code",
   "execution_count": 62,
   "metadata": {},
   "outputs": [],
   "source": [
    "tradutores_pos_2017 = livros_pos_2017[\"Tradutor(es)\"].value_counts()\n",
    "#tradutores_pos_2017.to_csv(\"tradutores_pos_2017.csv\")"
   ]
  },
  {
   "cell_type": "code",
   "execution_count": 63,
   "metadata": {},
   "outputs": [
    {
     "output_type": "execute_result",
     "data": {
      "text/plain": [
       "751"
      ]
     },
     "metadata": {},
     "execution_count": 63
    }
   ],
   "source": [
    "tradutores_pos_2017_limpo = pd.read_csv(\"tradutores_pos_2017.csv\")\n",
    "tradutores_pos_2017_limpo[\"Tradutor(es)\"].sum()"
   ]
  },
  {
   "cell_type": "code",
   "execution_count": 64,
   "metadata": {},
   "outputs": [
    {
     "output_type": "execute_result",
     "data": {
      "text/plain": [
       "2.0039254170755645"
      ]
     },
     "metadata": {},
     "execution_count": 64
    }
   ],
   "source": [
    "tradutores_pre_2017 = livros_pre_2017[\"Tradutor\"].value_counts()\n",
    "tradutores_pre_2017.to_csv(\"tradutores_pre_2017.csv\")\n",
    "tradutores_pre_2017.sum()/len(tradutores_pre_2017)"
   ]
  },
  {
   "cell_type": "code",
   "execution_count": 65,
   "metadata": {},
   "outputs": [
    {
     "output_type": "execute_result",
     "data": {
      "text/plain": [
       "ISBN                    49\n",
       "Título                   0\n",
       "Autor                  105\n",
       "Ilustrador            2541\n",
       "Tradutor              3703\n",
       "Data de edição         112\n",
       "Editora                  7\n",
       "Idade02                  1\n",
       "Idade02.1             5023\n",
       "Nível de leitura01       0\n",
       "Nível de leitura02    4913\n",
       "Temas01                 54\n",
       "Temas02               5118\n",
       "Temas03               5733\n",
       "Formato01             3747\n",
       "Formato02             5712\n",
       "Línguas01                0\n",
       "Línguas02             5702\n",
       "dtype: int64"
      ]
     },
     "metadata": {},
     "execution_count": 65
    }
   ],
   "source": [
    "livros_pre_2017.isna().sum()"
   ]
  },
  {
   "cell_type": "code",
   "execution_count": 66,
   "metadata": {},
   "outputs": [
    {
     "output_type": "execute_result",
     "data": {
      "text/plain": [
       "ISBN:                  0\n",
       "Título:                2\n",
       "Autor(es):             0\n",
       "Ilustrador(es):      962\n",
       "Tradutor(es)         918\n",
       "Editora:               0\n",
       "Data de edição:        5\n",
       "Palavras-chave:        4\n",
       "Idade:                 1\n",
       "Nível de Leitura:      0\n",
       "Tema:                  0\n",
       "Formato:               0\n",
       "Língua:                3\n",
       "Ano PNL                0\n",
       "dtype: int64"
      ]
     },
     "metadata": {},
     "execution_count": 66
    }
   ],
   "source": [
    "livros_pos_2017.isna().sum()"
   ]
  },
  {
   "cell_type": "code",
   "execution_count": 67,
   "metadata": {},
   "outputs": [],
   "source": [
    "#correcção manual de temas\n",
    "\n",
    "livros_pre_2017.loc[livros_pre_2017['Temas01'] == 'Ciências & tecnologia', \"Temas01\"] = 'Ciência e Tecnologia'\n",
    "livros_pre_2017.loc[livros_pre_2017['Temas01'] == 'Ciências & Tecnologia', \"Temas01\"] = 'Ciência e Tecnologia'\n",
    "livros_pre_2017.loc[livros_pre_2017['Temas01'] == 'Ciências e Tecnologia', \"Temas01\"] = 'Ciência e Tecnologia'\n",
    "livros_pre_2017.loc[livros_pre_2017['Temas01'] == 'Ciências e Tecnologias', \"Temas01\"] = 'Ciência e Tecnologia'\n",
    "livros_pre_2017.loc[livros_pre_2017['Temas01'] == 'Poesa', \"Temas01\"] = 'Poesia'\n",
    "livros_pre_2017.loc[livros_pre_2017['Temas01'] == 'Vida prática', \"Temas01\"] = 'Vida Prática'\n",
    "livros_pre_2017.loc[livros_pre_2017['Temas01'] == 'Biografias', \"Temas01\"] = 'Biografia'"
   ]
  },
  {
   "cell_type": "code",
   "execution_count": 68,
   "metadata": {},
   "outputs": [],
   "source": [
    "livros_pre_2017.loc[livros_pre_2017['Temas02'] == 'Ciências & tecnologia', \"Temas02\"] = 'Ciência e Tecnologia'\n",
    "livros_pre_2017.loc[livros_pre_2017['Temas02'] == 'Ciências & Tecnologia', \"Temas02\"] = 'Ciência e Tecnologia'\n",
    "livros_pre_2017.loc[livros_pre_2017['Temas02'] == 'Ciências e Tecnologia', \"Temas02\"] = 'Ciência e Tecnologia'\n",
    "livros_pre_2017.loc[livros_pre_2017['Temas02'] == 'Ciâncias & Tecnologia', \"Temas02\"] = 'Ciência e Tecnologia'\n",
    "livros_pre_2017.loc[livros_pre_2017['Temas02'] == 'Ciências & Tecnlogia', \"Temas02\"] = 'Ciência e Tecnologia'\n",
    "livros_pre_2017.loc[livros_pre_2017['Temas02'] == 'Cultura e sociedade', \"Temas02\"] = 'Cultura e Sociedade'\n",
    "\n",
    "livros_pre_2017.loc[livros_pre_2017['Temas02'] == 'Poesa', \"Temas02\"] = 'Poesia'\n",
    "livros_pre_2017.loc[livros_pre_2017['Temas02'] == 'Vida prática', \"Temas02\"] = 'Vida Prática'\n",
    "livros_pre_2017.loc[livros_pre_2017['Temas02'] == 'Biografias', \"Temas02\"] = 'Biografia'\n"
   ]
  },
  {
   "cell_type": "code",
   "execution_count": null,
   "metadata": {},
   "outputs": [],
   "source": []
  },
  {
   "cell_type": "code",
   "execution_count": 69,
   "metadata": {},
   "outputs": [],
   "source": [
    "#livros_pre_2017.groupby([\"Temas01\",\"Temas02\"]).agg({\"Temas01\":\"count\", \"Temas01\":\"count\"}).to_csv(\"temas_pre_2017.csv\")"
   ]
  },
  {
   "cell_type": "code",
   "execution_count": 70,
   "metadata": {},
   "outputs": [
    {
     "output_type": "execute_result",
     "data": {
      "text/plain": [
       "Literatura              3742\n",
       "Cultura e Sociedade      765\n",
       "Ciência e Tecnologia     655\n",
       "Poesia                   263\n",
       "Artes                    191\n",
       "Vida Prática              38\n",
       "Biografia                 20\n",
       "Banda Desenhada            8\n",
       "Ensaio                     8\n",
       "Livro jogo                 1\n",
       "Name: Temas01, dtype: int64"
      ]
     },
     "metadata": {},
     "execution_count": 70
    }
   ],
   "source": [
    "livros_pre_2017['Temas01'].value_counts()"
   ]
  },
  {
   "cell_type": "code",
   "execution_count": 71,
   "metadata": {},
   "outputs": [
    {
     "output_type": "execute_result",
     "data": {
      "text/plain": [
       "Literatura              328\n",
       "Cultura e Sociedade     134\n",
       "Poesia                   49\n",
       "Biografia                47\n",
       "Ciência e Tecnologia     31\n",
       "Artes                    20\n",
       "Ensaio                   10\n",
       "Vida Prática              6\n",
       "Livro jogo                2\n",
       "Name: Temas02, dtype: int64"
      ]
     },
     "metadata": {},
     "execution_count": 71
    }
   ],
   "source": [
    "livros_pre_2017['Temas02'].value_counts()"
   ]
  },
  {
   "cell_type": "code",
   "execution_count": 72,
   "metadata": {},
   "outputs": [
    {
     "output_type": "execute_result",
     "data": {
      "text/plain": [
       "array(['Leitura autónoma', 'Leitura mediana;Leitura autónoma', 'N/R',\n",
       "       'Leitura mediana', 'Leitura inicial', 'Pré-leitura',\n",
       "       'Leitura inicial;Leitura mediana;Leitura autónoma',\n",
       "       'Leitura inicial;Leitura mediana', 'Pré-leitura;Leitura inicial',\n",
       "       'Leitura inicial;Leitura autónoma',\n",
       "       'Pré-leitura;Leitura inicial;Leitura autónoma',\n",
       "       'Pré-leitura;Leitura autónoma', 'Leitura fluente',\n",
       "       'Leitura mediana;Leitura fluente',\n",
       "       'Pré-leitura;Leitura inicial;Leitura mediana',\n",
       "       'Leitura inicial;Leitura mediana;Leitura fluente',\n",
       "       'Pré-leitura;Leitura inicial;Leitura fluente',\n",
       "       'Leitura inicial, Leitura mediana',\n",
       "       'Leitura fluente;Leitura mediana;', 'Leitura fluente;',\n",
       "       'Pré-leitura;Leitura fluente;', 'Pré-leitura;Leitura inicial;',\n",
       "       'Pré-leitura;', 'Leitura inicial;Leitura mediana;',\n",
       "       'Leitura inicial;', 'Pré-leitura;Leitura fluente;Leitura inicial;',\n",
       "       'Leitura fluente;Leitura inicial;Leitura mediana;',\n",
       "       'Pré-leitura;Leitura inicial;Leitura mediana;', 'Leitura mediana;',\n",
       "       'Leitura mediana;Leitura fluente;',\n",
       "       'Leitura inicial;Leitura mediana;Leitura fluente;',\n",
       "       'Leitura mediana;Leitura inicial;', 'Leitura inicial;Pré-leitura;',\n",
       "       'Leitura fluente;Leitura mediana;Leitura inicial;',\n",
       "       'Leitura mediana;Leitura inicial;Pré-leitura;',\n",
       "       'Leitura fluente;Leitura inicial;'], dtype=object)"
      ]
     },
     "metadata": {},
     "execution_count": 72
    }
   ],
   "source": [
    "livros_pos_2017[\"Nível de Leitura:\"].unique()"
   ]
  },
  {
   "cell_type": "code",
   "execution_count": 104,
   "metadata": {},
   "outputs": [],
   "source": [
    "temas_pos_2017 = livros_pos_2017['Tema:'].str.split(';', expand=True).rename(columns=lambda x: f\"temas{x+1}\")\n",
    "idade_pos_2017 = livros_pos_2017['Idade:'].str.split(';', expand=True).rename(columns=lambda x: f\"idade{x+1}\")\n",
    "niveis_pos_2017 = livros_pos_2017[\"Nível de Leitura:\"].str.split(';', expand=True).rename(columns=lambda x: f\"nivel_leitura{x+1}\")\n"
   ]
  },
  {
   "cell_type": "code",
   "execution_count": 105,
   "metadata": {},
   "outputs": [
    {
     "output_type": "execute_result",
     "data": {
      "text/plain": [
       "                 ISBN:                                            Título:  \\\n",
       "1    978-989-644-448-8  Outras Mentes - O Polvo, o Mar e a Origem da C...   \n",
       "2        9789896168117                                   Poções e paixões   \n",
       "3    978-989-644-434-1     Nós, os Micróbios e uma Visão ALargada da Vida   \n",
       "4        9789896417529                            Preparação para a Noite   \n",
       "5        9789722361569                       Os Contos de Beedle, o Bardo   \n",
       "..                 ...                                                ...   \n",
       "252  978-972-25-3934-0                     A Menina com os Olhos Ocupados   \n",
       "253  978-989-8688-58-3                                  A gata e a fábula   \n",
       "254  978-989-783-017-4                                                NaN   \n",
       "255  978-989-722-709-7                               O Que É Amar um País   \n",
       "256      9789898145482  Gosto, Logo Existo - \\nRedes sociais, jornalis...   \n",
       "\n",
       "                  Autor(es):       Ilustrador(es):       Tradutor(es)  \\\n",
       "1          Godfrey-Smith, P.                 n. d.  Garcia Rosado, P.   \n",
       "2          André, João Paulo                não há             não há   \n",
       "3                  Young, E.                 n. d.       Santos, J.L.   \n",
       "4               Rocha, Jaime                   N/R                N/R   \n",
       "5              Rowling, J.K.          S/ ilustrar.          s/ indic.   \n",
       "..                       ...                   ...                ...   \n",
       "252           André Carrilho        André Carrilho                n.a   \n",
       "253        Botelho, Fernanda        Sem ilustração        Sem radudor   \n",
       "254            Handke, Peter        Sem ilustrador   Lopes, Alexandra   \n",
       "255  José Tolentino Mendonça                   n.a                n.a   \n",
       "256             Isabel Meira  Bernardo P. Carvalho                n.a   \n",
       "\n",
       "              Editora: Data de edição:  \\\n",
       "1                  N/R            2017   \n",
       "2                  N/R            2018   \n",
       "3                  N/R            2017   \n",
       "4                  N/R            2017   \n",
       "5                  N/R            2018   \n",
       "..                 ...             ...   \n",
       "252   Bertrand Editora            2020   \n",
       "253             Abysmo            2018   \n",
       "254     Relógio D'Água            2020   \n",
       "255   Quetzal Editores            2020   \n",
       "256  Planeta Tangerina            2020   \n",
       "\n",
       "                                 Palavras-chave:  \\\n",
       "1                   Mente; Consciência; Evolução   \n",
       "2                         música, química, ópera   \n",
       "3                Micróbios; Microbioma; Simbiose   \n",
       "4    Poesia; estilo; individualidade; coerência.   \n",
       "5                       feitiçaria; Harry Potter   \n",
       "..                                           ...   \n",
       "252             telemóveis, comunicação, família   \n",
       "253          Insubmissão; conformismo; liberdade   \n",
       "254                 felicidade; Beleza; Reflexão   \n",
       "255                    esperança, reflexão, vida   \n",
       "256         redes sociais, jornalismo; fake news   \n",
       "\n",
       "                                        Idade: Nível de Leitura:  ... temas4  \\\n",
       "1                15-18 anos;Maiores de 18 anos  Leitura autónoma  ...   None   \n",
       "2                15-18 anos;Maiores de 18 anos  Leitura autónoma  ...   None   \n",
       "3                15-18 anos;Maiores de 18 anos  Leitura autónoma  ...   None   \n",
       "4                                          N/R  Leitura autónoma  ...   None   \n",
       "5                                    9-11 anos  Leitura autónoma  ...   None   \n",
       "..                                         ...               ...  ...    ...   \n",
       "252                      9-11 anos;12-14 anos;  Leitura fluente;  ...   None   \n",
       "253             Maiores de 18 anos;15-18 anos;  Leitura fluente;  ...   None   \n",
       "254             Maiores de 18 anos;15-18 anos;  Leitura fluente;  ...   None   \n",
       "255             Maiores de 18 anos;15-18 anos;  Leitura fluente;  ...   None   \n",
       "256  Maiores de 18 anos;15-18 anos;12-14 anos;  Leitura fluente;  ...   None   \n",
       "\n",
       "                 idade1              idade2      idade3 idade4 idade5  \\\n",
       "1            15-18 anos  Maiores de 18 anos        None   None   None   \n",
       "2            15-18 anos  Maiores de 18 anos        None   None   None   \n",
       "3            15-18 anos  Maiores de 18 anos        None   None   None   \n",
       "4                   N/R                None        None   None   None   \n",
       "5             9-11 anos                None        None   None   None   \n",
       "..                  ...                 ...         ...    ...    ...   \n",
       "252           9-11 anos          12-14 anos               None   None   \n",
       "253  Maiores de 18 anos          15-18 anos               None   None   \n",
       "254  Maiores de 18 anos          15-18 anos               None   None   \n",
       "255  Maiores de 18 anos          15-18 anos               None   None   \n",
       "256  Maiores de 18 anos          15-18 anos  12-14 anos          None   \n",
       "\n",
       "       nivel_leitura1 nivel_leitura2 nivel_leitura3 nivel_leitura4  \n",
       "1    Leitura autónoma           None           None           None  \n",
       "2    Leitura autónoma           None           None           None  \n",
       "3    Leitura autónoma           None           None           None  \n",
       "4    Leitura autónoma           None           None           None  \n",
       "5    Leitura autónoma           None           None           None  \n",
       "..                ...            ...            ...            ...  \n",
       "252   Leitura fluente                          None           None  \n",
       "253   Leitura fluente                          None           None  \n",
       "254   Leitura fluente                          None           None  \n",
       "255   Leitura fluente                          None           None  \n",
       "256   Leitura fluente                          None           None  \n",
       "\n",
       "[2349 rows x 27 columns]"
      ],
      "text/html": "<div>\n<style scoped>\n    .dataframe tbody tr th:only-of-type {\n        vertical-align: middle;\n    }\n\n    .dataframe tbody tr th {\n        vertical-align: top;\n    }\n\n    .dataframe thead th {\n        text-align: right;\n    }\n</style>\n<table border=\"1\" class=\"dataframe\">\n  <thead>\n    <tr style=\"text-align: right;\">\n      <th></th>\n      <th>ISBN:</th>\n      <th>Título:</th>\n      <th>Autor(es):</th>\n      <th>Ilustrador(es):</th>\n      <th>Tradutor(es)</th>\n      <th>Editora:</th>\n      <th>Data de edição:</th>\n      <th>Palavras-chave:</th>\n      <th>Idade:</th>\n      <th>Nível de Leitura:</th>\n      <th>...</th>\n      <th>temas4</th>\n      <th>idade1</th>\n      <th>idade2</th>\n      <th>idade3</th>\n      <th>idade4</th>\n      <th>idade5</th>\n      <th>nivel_leitura1</th>\n      <th>nivel_leitura2</th>\n      <th>nivel_leitura3</th>\n      <th>nivel_leitura4</th>\n    </tr>\n  </thead>\n  <tbody>\n    <tr>\n      <th>1</th>\n      <td>978-989-644-448-8</td>\n      <td>Outras Mentes - O Polvo, o Mar e a Origem da C...</td>\n      <td>Godfrey-Smith, P.</td>\n      <td>n. d.</td>\n      <td>Garcia Rosado, P.</td>\n      <td>N/R</td>\n      <td>2017</td>\n      <td>Mente; Consciência; Evolução</td>\n      <td>15-18 anos;Maiores de 18 anos</td>\n      <td>Leitura autónoma</td>\n      <td>...</td>\n      <td>None</td>\n      <td>15-18 anos</td>\n      <td>Maiores de 18 anos</td>\n      <td>None</td>\n      <td>None</td>\n      <td>None</td>\n      <td>Leitura autónoma</td>\n      <td>None</td>\n      <td>None</td>\n      <td>None</td>\n    </tr>\n    <tr>\n      <th>2</th>\n      <td>9789896168117</td>\n      <td>Poções e paixões</td>\n      <td>André, João Paulo</td>\n      <td>não há</td>\n      <td>não há</td>\n      <td>N/R</td>\n      <td>2018</td>\n      <td>música, química, ópera</td>\n      <td>15-18 anos;Maiores de 18 anos</td>\n      <td>Leitura autónoma</td>\n      <td>...</td>\n      <td>None</td>\n      <td>15-18 anos</td>\n      <td>Maiores de 18 anos</td>\n      <td>None</td>\n      <td>None</td>\n      <td>None</td>\n      <td>Leitura autónoma</td>\n      <td>None</td>\n      <td>None</td>\n      <td>None</td>\n    </tr>\n    <tr>\n      <th>3</th>\n      <td>978-989-644-434-1</td>\n      <td>Nós, os Micróbios e uma Visão ALargada da Vida</td>\n      <td>Young, E.</td>\n      <td>n. d.</td>\n      <td>Santos, J.L.</td>\n      <td>N/R</td>\n      <td>2017</td>\n      <td>Micróbios; Microbioma; Simbiose</td>\n      <td>15-18 anos;Maiores de 18 anos</td>\n      <td>Leitura autónoma</td>\n      <td>...</td>\n      <td>None</td>\n      <td>15-18 anos</td>\n      <td>Maiores de 18 anos</td>\n      <td>None</td>\n      <td>None</td>\n      <td>None</td>\n      <td>Leitura autónoma</td>\n      <td>None</td>\n      <td>None</td>\n      <td>None</td>\n    </tr>\n    <tr>\n      <th>4</th>\n      <td>9789896417529</td>\n      <td>Preparação para a Noite</td>\n      <td>Rocha, Jaime</td>\n      <td>N/R</td>\n      <td>N/R</td>\n      <td>N/R</td>\n      <td>2017</td>\n      <td>Poesia; estilo; individualidade; coerência.</td>\n      <td>N/R</td>\n      <td>Leitura autónoma</td>\n      <td>...</td>\n      <td>None</td>\n      <td>N/R</td>\n      <td>None</td>\n      <td>None</td>\n      <td>None</td>\n      <td>None</td>\n      <td>Leitura autónoma</td>\n      <td>None</td>\n      <td>None</td>\n      <td>None</td>\n    </tr>\n    <tr>\n      <th>5</th>\n      <td>9789722361569</td>\n      <td>Os Contos de Beedle, o Bardo</td>\n      <td>Rowling, J.K.</td>\n      <td>S/ ilustrar.</td>\n      <td>s/ indic.</td>\n      <td>N/R</td>\n      <td>2018</td>\n      <td>feitiçaria; Harry Potter</td>\n      <td>9-11 anos</td>\n      <td>Leitura autónoma</td>\n      <td>...</td>\n      <td>None</td>\n      <td>9-11 anos</td>\n      <td>None</td>\n      <td>None</td>\n      <td>None</td>\n      <td>None</td>\n      <td>Leitura autónoma</td>\n      <td>None</td>\n      <td>None</td>\n      <td>None</td>\n    </tr>\n    <tr>\n      <th>...</th>\n      <td>...</td>\n      <td>...</td>\n      <td>...</td>\n      <td>...</td>\n      <td>...</td>\n      <td>...</td>\n      <td>...</td>\n      <td>...</td>\n      <td>...</td>\n      <td>...</td>\n      <td>...</td>\n      <td>...</td>\n      <td>...</td>\n      <td>...</td>\n      <td>...</td>\n      <td>...</td>\n      <td>...</td>\n      <td>...</td>\n      <td>...</td>\n      <td>...</td>\n      <td>...</td>\n    </tr>\n    <tr>\n      <th>252</th>\n      <td>978-972-25-3934-0</td>\n      <td>A Menina com os Olhos Ocupados</td>\n      <td>André Carrilho</td>\n      <td>André Carrilho</td>\n      <td>n.a</td>\n      <td>Bertrand Editora</td>\n      <td>2020</td>\n      <td>telemóveis, comunicação, família</td>\n      <td>9-11 anos;12-14 anos;</td>\n      <td>Leitura fluente;</td>\n      <td>...</td>\n      <td>None</td>\n      <td>9-11 anos</td>\n      <td>12-14 anos</td>\n      <td></td>\n      <td>None</td>\n      <td>None</td>\n      <td>Leitura fluente</td>\n      <td></td>\n      <td>None</td>\n      <td>None</td>\n    </tr>\n    <tr>\n      <th>253</th>\n      <td>978-989-8688-58-3</td>\n      <td>A gata e a fábula</td>\n      <td>Botelho, Fernanda</td>\n      <td>Sem ilustração</td>\n      <td>Sem radudor</td>\n      <td>Abysmo</td>\n      <td>2018</td>\n      <td>Insubmissão; conformismo; liberdade</td>\n      <td>Maiores de 18 anos;15-18 anos;</td>\n      <td>Leitura fluente;</td>\n      <td>...</td>\n      <td>None</td>\n      <td>Maiores de 18 anos</td>\n      <td>15-18 anos</td>\n      <td></td>\n      <td>None</td>\n      <td>None</td>\n      <td>Leitura fluente</td>\n      <td></td>\n      <td>None</td>\n      <td>None</td>\n    </tr>\n    <tr>\n      <th>254</th>\n      <td>978-989-783-017-4</td>\n      <td>NaN</td>\n      <td>Handke, Peter</td>\n      <td>Sem ilustrador</td>\n      <td>Lopes, Alexandra</td>\n      <td>Relógio D'Água</td>\n      <td>2020</td>\n      <td>felicidade; Beleza; Reflexão</td>\n      <td>Maiores de 18 anos;15-18 anos;</td>\n      <td>Leitura fluente;</td>\n      <td>...</td>\n      <td>None</td>\n      <td>Maiores de 18 anos</td>\n      <td>15-18 anos</td>\n      <td></td>\n      <td>None</td>\n      <td>None</td>\n      <td>Leitura fluente</td>\n      <td></td>\n      <td>None</td>\n      <td>None</td>\n    </tr>\n    <tr>\n      <th>255</th>\n      <td>978-989-722-709-7</td>\n      <td>O Que É Amar um País</td>\n      <td>José Tolentino Mendonça</td>\n      <td>n.a</td>\n      <td>n.a</td>\n      <td>Quetzal Editores</td>\n      <td>2020</td>\n      <td>esperança, reflexão, vida</td>\n      <td>Maiores de 18 anos;15-18 anos;</td>\n      <td>Leitura fluente;</td>\n      <td>...</td>\n      <td>None</td>\n      <td>Maiores de 18 anos</td>\n      <td>15-18 anos</td>\n      <td></td>\n      <td>None</td>\n      <td>None</td>\n      <td>Leitura fluente</td>\n      <td></td>\n      <td>None</td>\n      <td>None</td>\n    </tr>\n    <tr>\n      <th>256</th>\n      <td>9789898145482</td>\n      <td>Gosto, Logo Existo - \\nRedes sociais, jornalis...</td>\n      <td>Isabel Meira</td>\n      <td>Bernardo P. Carvalho</td>\n      <td>n.a</td>\n      <td>Planeta Tangerina</td>\n      <td>2020</td>\n      <td>redes sociais, jornalismo; fake news</td>\n      <td>Maiores de 18 anos;15-18 anos;12-14 anos;</td>\n      <td>Leitura fluente;</td>\n      <td>...</td>\n      <td>None</td>\n      <td>Maiores de 18 anos</td>\n      <td>15-18 anos</td>\n      <td>12-14 anos</td>\n      <td></td>\n      <td>None</td>\n      <td>Leitura fluente</td>\n      <td></td>\n      <td>None</td>\n      <td>None</td>\n    </tr>\n  </tbody>\n</table>\n<p>2349 rows × 27 columns</p>\n</div>"
     },
     "metadata": {},
     "execution_count": 105
    }
   ],
   "source": [
    "livros_pos_2017_limpo = pd.concat([livros_pos_2017, temas_pos_2017.reindex(livros_pos_2017.index)], axis=1)\n",
    "livros_pos_2017_limpo = pd.concat([livros_pos_2017_limpo, idade_pos_2017.reindex(livros_pos_2017_limpo.index)], axis=1)\n",
    "livros_pos_2017_limpo = pd.concat([livros_pos_2017_limpo, niveis_pos_2017.reindex(livros_pos_2017_limpo.index)], axis=1)\n",
    "livros_pos_2017_limpo"
   ]
  },
  {
   "cell_type": "code",
   "execution_count": 107,
   "metadata": {},
   "outputs": [
    {
     "output_type": "execute_result",
     "data": {
      "text/plain": [
       "Index(['ISBN', 'Título', 'Autor', 'Ilustrador', 'Tradutor', 'Data de edição',\n",
       "       'Editora', 'Idade02', 'Idade02.1', 'Nível de leitura01',\n",
       "       'Nível de leitura02', 'Temas01', 'Temas02', 'Temas03', 'Formato01',\n",
       "       'Formato02', 'Línguas01', 'Línguas02'],\n",
       "      dtype='object')"
      ]
     },
     "metadata": {},
     "execution_count": 107
    }
   ],
   "source": [
    "livros_pre_2017.columns"
   ]
  },
  {
   "cell_type": "code",
   "execution_count": 109,
   "metadata": {},
   "outputs": [
    {
     "output_type": "execute_result",
     "data": {
      "text/plain": [
       "Index(['ISBN:', 'Título:', 'Autor(es):', 'Ilustrador(es):', 'Tradutor(es)',\n",
       "       'Editora:', 'Data de edição:', 'Palavras-chave:', 'Idade:',\n",
       "       'Nível de Leitura:', 'Tema:', 'Formato:', 'Língua:', 'Ano PNL',\n",
       "       'temas1', 'temas2', 'temas3', 'temas4', 'idade1', 'idade2', 'idade3',\n",
       "       'idade4', 'idade5', 'nivel_leitura1', 'nivel_leitura2',\n",
       "       'nivel_leitura3', 'nivel_leitura4'],\n",
       "      dtype='object')"
      ]
     },
     "metadata": {},
     "execution_count": 109
    }
   ],
   "source": [
    "livros_pos_2017_limpo.columns"
   ]
  },
  {
   "cell_type": "code",
   "execution_count": 163,
   "metadata": {},
   "outputs": [],
   "source": [
    "#temas e idades principais\n",
    "\n",
    "idades_temas_pos_2017 = livros_pos_2017_limpo.groupby([\"idade1\",\"temas1\"])[\"Título:\"].count()\n",
    "idades_temas_pre_2017 = livros_pre_2017.groupby([\"Idade02\",\"Temas01\"])[\"Título\"].count()\n",
    "\n",
    "idades_temas_pre_2017.rename(index={'maiores de 18 anos': \"Maiores de 18 anos\", \"Artes\":\"Arte\", \"Ciências e Tecnologias\":\"Ciência e Tecnologia\"}, inplace=True)\n",
    "\n",
    "idades_temas_limpo = pd.concat([idades_temas_pre_2017, idades_temas_pos_2017], axis=1)\n",
    "\n",
    "\n",
    "idades_temas_limpo.fillna(0, inplace=True)\n",
    "idades_temas_limpo[\"livros\"] = idades_temas_limpo[\"Título:\"] + idades_temas_limpo[\"Título\"]\n",
    "idades_temas_limpo[\"livros\"].astype(\"int\")\n",
    "idades_temas_limpo = idades_temas_limpo.drop(columns=[\"Título:\", \"Título\"])\n",
    "idades_temas_limpo.to_csv(\"temas_idades_principais.csv\")\n"
   ]
  },
  {
   "cell_type": "code",
   "execution_count": 168,
   "metadata": {},
   "outputs": [
    {
     "output_type": "execute_result",
     "data": {
      "text/plain": [
       "nivel_leitura1    2349\n",
       "nivel_leitura2    1226\n",
       "nivel_leitura3     248\n",
       "nivel_leitura4      27\n",
       "dtype: int64"
      ]
     },
     "metadata": {},
     "execution_count": 168
    }
   ],
   "source": [
    "niveis_pos_2017.count()"
   ]
  },
  {
   "cell_type": "code",
   "execution_count": 173,
   "metadata": {},
   "outputs": [
    {
     "output_type": "execute_result",
     "data": {
      "text/plain": [
       "                                  Título:\n",
       "nivel_leitura1  nivel_leitura2           \n",
       "Leitura fluente                       331\n",
       "                Leitura inicial         2\n",
       "                Leitura mediana        59\n",
       "Leitura inicial                        31\n",
       "                Leitura autónoma        1\n",
       "                Leitura mediana       178\n",
       "                Pré-leitura            15\n",
       "Leitura mediana                        21\n",
       "                Leitura autónoma       91\n",
       "                Leitura fluente       323\n",
       "                Leitura inicial        26\n",
       "Pré-leitura                            11\n",
       "                Leitura autónoma        2\n",
       "                Leitura fluente         2\n",
       "                Leitura inicial       131"
      ],
      "text/html": "<div>\n<style scoped>\n    .dataframe tbody tr th:only-of-type {\n        vertical-align: middle;\n    }\n\n    .dataframe tbody tr th {\n        vertical-align: top;\n    }\n\n    .dataframe thead th {\n        text-align: right;\n    }\n</style>\n<table border=\"1\" class=\"dataframe\">\n  <thead>\n    <tr style=\"text-align: right;\">\n      <th></th>\n      <th></th>\n      <th>Título:</th>\n    </tr>\n    <tr>\n      <th>nivel_leitura1</th>\n      <th>nivel_leitura2</th>\n      <th></th>\n    </tr>\n  </thead>\n  <tbody>\n    <tr>\n      <th rowspan=\"3\" valign=\"top\">Leitura fluente</th>\n      <th></th>\n      <td>331</td>\n    </tr>\n    <tr>\n      <th>Leitura inicial</th>\n      <td>2</td>\n    </tr>\n    <tr>\n      <th>Leitura mediana</th>\n      <td>59</td>\n    </tr>\n    <tr>\n      <th rowspan=\"4\" valign=\"top\">Leitura inicial</th>\n      <th></th>\n      <td>31</td>\n    </tr>\n    <tr>\n      <th>Leitura autónoma</th>\n      <td>1</td>\n    </tr>\n    <tr>\n      <th>Leitura mediana</th>\n      <td>178</td>\n    </tr>\n    <tr>\n      <th>Pré-leitura</th>\n      <td>15</td>\n    </tr>\n    <tr>\n      <th rowspan=\"4\" valign=\"top\">Leitura mediana</th>\n      <th></th>\n      <td>21</td>\n    </tr>\n    <tr>\n      <th>Leitura autónoma</th>\n      <td>91</td>\n    </tr>\n    <tr>\n      <th>Leitura fluente</th>\n      <td>323</td>\n    </tr>\n    <tr>\n      <th>Leitura inicial</th>\n      <td>26</td>\n    </tr>\n    <tr>\n      <th rowspan=\"4\" valign=\"top\">Pré-leitura</th>\n      <th></th>\n      <td>11</td>\n    </tr>\n    <tr>\n      <th>Leitura autónoma</th>\n      <td>2</td>\n    </tr>\n    <tr>\n      <th>Leitura fluente</th>\n      <td>2</td>\n    </tr>\n    <tr>\n      <th>Leitura inicial</th>\n      <td>131</td>\n    </tr>\n  </tbody>\n</table>\n</div>"
     },
     "metadata": {},
     "execution_count": 173
    }
   ],
   "source": [
    "livros_pos_2017_limpo.groupby([\"nivel_leitura1\",\"nivel_leitura2\"]).agg({\"Título:\":\"count\"})"
   ]
  },
  {
   "cell_type": "code",
   "execution_count": 197,
   "metadata": {},
   "outputs": [],
   "source": [
    "niveis_leitura = pd.DataFrame(livros_pos_2017_limpo[\"nivel_leitura1\"].value_counts())\n",
    "niveis_leitura[\"pre2017\"] = pd.Series(livros_pre_2017[\"Nível de leitura01\"].value_counts())\n",
    "niveis_leitura.fillna(0,inplace=True)\n",
    "niveis_leitura.astype(\"int\")\n",
    "niveis_leitura[\"total\"] = niveis_leitura[\"nivel_leitura1\"] + niveis_leitura[\"pre2017\"]\n",
    "niveis_leitura.to_csv(\"niveis_leitura.csv\")"
   ]
  },
  {
   "cell_type": "code",
   "execution_count": 196,
   "metadata": {},
   "outputs": [],
   "source": []
  },
  {
   "cell_type": "code",
   "execution_count": 76,
   "metadata": {},
   "outputs": [
    {
     "output_type": "execute_result",
     "data": {
      "text/plain": [
       "                                   Temas1\n",
       "Temas1       Temas2                      \n",
       "Arte                                   20\n",
       "             Banda Desenhada            4\n",
       "             Biografia                  9\n",
       "             Cultura e Sociedade       23\n",
       "             Literatura                10\n",
       "...                                   ...\n",
       "Vida Prática                           19\n",
       "             Banda Desenhada            4\n",
       "             Ciência e Tecnologia       4\n",
       "             Cultura e Sociedade        3\n",
       "             Literatura                 8\n",
       "\n",
       "[73 rows x 1 columns]"
      ],
      "text/html": "<div>\n<style scoped>\n    .dataframe tbody tr th:only-of-type {\n        vertical-align: middle;\n    }\n\n    .dataframe tbody tr th {\n        vertical-align: top;\n    }\n\n    .dataframe thead th {\n        text-align: right;\n    }\n</style>\n<table border=\"1\" class=\"dataframe\">\n  <thead>\n    <tr style=\"text-align: right;\">\n      <th></th>\n      <th></th>\n      <th>Temas1</th>\n    </tr>\n    <tr>\n      <th>Temas1</th>\n      <th>Temas2</th>\n      <th></th>\n    </tr>\n  </thead>\n  <tbody>\n    <tr>\n      <th rowspan=\"5\" valign=\"top\">Arte</th>\n      <th></th>\n      <td>20</td>\n    </tr>\n    <tr>\n      <th>Banda Desenhada</th>\n      <td>4</td>\n    </tr>\n    <tr>\n      <th>Biografia</th>\n      <td>9</td>\n    </tr>\n    <tr>\n      <th>Cultura e Sociedade</th>\n      <td>23</td>\n    </tr>\n    <tr>\n      <th>Literatura</th>\n      <td>10</td>\n    </tr>\n    <tr>\n      <th>...</th>\n      <th>...</th>\n      <td>...</td>\n    </tr>\n    <tr>\n      <th rowspan=\"5\" valign=\"top\">Vida Prática</th>\n      <th></th>\n      <td>19</td>\n    </tr>\n    <tr>\n      <th>Banda Desenhada</th>\n      <td>4</td>\n    </tr>\n    <tr>\n      <th>Ciência e Tecnologia</th>\n      <td>4</td>\n    </tr>\n    <tr>\n      <th>Cultura e Sociedade</th>\n      <td>3</td>\n    </tr>\n    <tr>\n      <th>Literatura</th>\n      <td>8</td>\n    </tr>\n  </tbody>\n</table>\n<p>73 rows × 1 columns</p>\n</div>"
     },
     "metadata": {},
     "execution_count": 76
    }
   ],
   "source": [
    "'''relacao_temas = livros_pos_2017_limpo.groupby([\"Temas1\",\"Temas2\"]).agg({\"Temas1\":\"count\"})\n",
    "relacao_temas_pre_2017 = livros_pre_2017.groupby([\"Temas01\",\"Temas02\"]).agg({\"Temas01\":\"count\"})#.to_csv(\"temas_pre_2017.csv\")\n",
    "\n",
    "relacao_temas.rename(columns={\"Temas1\":\"contagem\"})\n",
    "relacao_temas_pre_2017.rename(columns={\"Temas01\":\"contagem\"})\n",
    "\n",
    "relacao_temas'''"
   ]
  },
  {
   "cell_type": "code",
   "execution_count": 78,
   "metadata": {},
   "outputs": [],
   "source": [
    "autores_pre_2017 = livros_pre_2017[\"Autor\"].value_counts()\n",
    "autores_pre_2017.to_csv(\"autores_pre_2017.csv\")"
   ]
  },
  {
   "cell_type": "code",
   "execution_count": 79,
   "metadata": {},
   "outputs": [],
   "source": [
    "autores_pos_2017 = livros_pos_2017[\"Autor(es):\"].value_counts()\n",
    "autores_pos_2017.to_csv(\"autores_pos_2017.csv\")"
   ]
  },
  {
   "cell_type": "code",
   "execution_count": 80,
   "metadata": {},
   "outputs": [
    {
     "output_type": "execute_result",
     "data": {
      "text/plain": [
       "Index(['ISBN', 'Título', 'Autor', 'Ilustrador', 'Tradutor', 'Data de edição',\n",
       "       'Editora', 'Idade02', 'Idade02.1', 'Nível de leitura01',\n",
       "       'Nível de leitura02', 'Temas01', 'Temas02', 'Temas03', 'Formato01',\n",
       "       'Formato02', 'Línguas01', 'Línguas02'],\n",
       "      dtype='object')"
      ]
     },
     "metadata": {},
     "execution_count": 80
    }
   ],
   "source": [
    "livros_pre_2017.columns"
   ]
  },
  {
   "cell_type": "code",
   "execution_count": 81,
   "metadata": {},
   "outputs": [
    {
     "output_type": "execute_result",
     "data": {
      "text/plain": [
       "Index(['ISBN:', 'Título:', 'Autor(es):', 'Ilustrador(es):', 'Tradutor(es)',\n",
       "       'Editora:', 'Data de edição:', 'Palavras-chave:', 'Idade:',\n",
       "       'Nível de Leitura:', 'Tema:', 'Formato:', 'Língua:', 'Ano PNL'],\n",
       "      dtype='object')"
      ]
     },
     "metadata": {},
     "execution_count": 81
    }
   ],
   "source": [
    "livros_pos_2017.columns"
   ]
  },
  {
   "cell_type": "code",
   "execution_count": 82,
   "metadata": {},
   "outputs": [
    {
     "output_type": "execute_result",
     "data": {
      "text/plain": [
       "'livros = [livros_pos_2017,livros_pre_2017]\\ntodos_livros = pd.concat(livros)\\ntodos_livros'"
      ]
     },
     "metadata": {},
     "execution_count": 82
    }
   ],
   "source": [
    "'''livros = [livros_pos_2017,livros_pre_2017]\n",
    "todos_livros = pd.concat(livros)\n",
    "todos_livros'''"
   ]
  },
  {
   "source": [],
   "cell_type": "markdown",
   "metadata": {}
  },
  {
   "cell_type": "code",
   "execution_count": null,
   "metadata": {},
   "outputs": [],
   "source": []
  }
 ]
}